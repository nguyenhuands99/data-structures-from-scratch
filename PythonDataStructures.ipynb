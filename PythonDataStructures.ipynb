{
 "cells": [
  {
   "cell_type": "markdown",
   "metadata": {},
   "source": [
    "# PYTHON DATA STRUCTURES"
   ]
  },
  {
   "cell_type": "markdown",
   "metadata": {},
   "source": [
    "This notebook is created by Huan with the purpose of learning through all the common, basic but super important data structures in Computer Science.  \n",
    "The language used in this notebook is **Python 3**.\n"
   ]
  },
  {
   "cell_type": "markdown",
   "metadata": {},
   "source": [
    "- Some tricks, tips, shortcuts for Jupyter Notebook are [here](https://www.dataquest.io/blog/jupyter-notebook-tips-tricks-shortcuts/)"
   ]
  },
  {
   "cell_type": "markdown",
   "metadata": {},
   "source": [
    "## Understanding Python 3"
   ]
  },
  {
   "cell_type": "markdown",
   "metadata": {},
   "source": [
    "To understand Python 3, let's go through all examples of ML course CQ2016 (lecturer Le Trung Kien) with some more flavour of the textbook: *Python Data Structures and Algorithms by Packt*."
   ]
  },
  {
   "cell_type": "markdown",
   "metadata": {},
   "source": [
    "### Keywords"
   ]
  },
  {
   "cell_type": "markdown",
   "metadata": {},
   "source": [
    "**Yield**"
   ]
  },
  {
   "cell_type": "markdown",
   "metadata": {},
   "source": [
    "The `yield` keyword is reduced to two simple facts:\n",
    "\n",
    "If the compiler detects the `yield` keyword anywhere inside a function, that function no longer returns via the `return` statement. Instead, it immediately returns a **lazy \"pending list\" object called a generator**  \n",
    "A *generator* is *iterable*. What is an iterable? It's anything like a `list` or `set` or `range` or dict-view, with a built-in protocol for visiting each element in a certain order.  \n",
    "In a nutshell: a generator is a lazy, incrementally-pending list, and yield statements allow you to use function notation to program the list values the generator should incrementally spit out."
   ]
  },
  {
   "cell_type": "markdown",
   "metadata": {},
   "source": [
    "### Simple Data Types"
   ]
  },
  {
   "cell_type": "markdown",
   "metadata": {},
   "source": [
    "**Number**"
   ]
  },
  {
   "cell_type": "code",
   "execution_count": 1,
   "metadata": {},
   "outputs": [
    {
     "name": "stdout",
     "output_type": "stream",
     "text": [
      "<class 'int'>\n"
     ]
    }
   ],
   "source": [
    "x = 3\n",
    "print(type(x))"
   ]
  },
  {
   "cell_type": "markdown",
   "metadata": {},
   "source": [
    "**Boolean**"
   ]
  },
  {
   "cell_type": "code",
   "execution_count": 2,
   "metadata": {},
   "outputs": [
    {
     "name": "stdout",
     "output_type": "stream",
     "text": [
      "<class 'bool'>\n"
     ]
    }
   ],
   "source": [
    "t = True\n",
    "f = False\n",
    "print(type(f))"
   ]
  },
  {
   "cell_type": "code",
   "execution_count": 3,
   "metadata": {},
   "outputs": [
    {
     "name": "stdout",
     "output_type": "stream",
     "text": [
      "True\n",
      "False\n",
      "True\n",
      "False\n"
     ]
    }
   ],
   "source": [
    "print(t != f)  # XOR\n",
    "print(t and f)\n",
    "print(t or f)\n",
    "print(not t)"
   ]
  },
  {
   "cell_type": "markdown",
   "metadata": {},
   "source": [
    "**String**"
   ]
  },
  {
   "cell_type": "code",
   "execution_count": 4,
   "metadata": {},
   "outputs": [
    {
     "name": "stdout",
     "output_type": "stream",
     "text": [
      "hello world\n",
      "5\n"
     ]
    }
   ],
   "source": [
    "hl = 'hello'\n",
    "wd = 'world'\n",
    "print(hl + ' ' + wd)\n",
    "print(len(wd))"
   ]
  },
  {
   "cell_type": "code",
   "execution_count": 5,
   "metadata": {},
   "outputs": [
    {
     "name": "stdout",
     "output_type": "stream",
     "text": [
      "hello world 12\n",
      "hello world 12\n"
     ]
    }
   ],
   "source": [
    "hw = '%s %s %d' % (hl,wd,12)\n",
    "print(hw)\n",
    "print(f'{hl} {wd} {12}')"
   ]
  },
  {
   "cell_type": "markdown",
   "metadata": {},
   "source": [
    "### Containers"
   ]
  },
  {
   "cell_type": "markdown",
   "metadata": {},
   "source": [
    "**List**"
   ]
  },
  {
   "cell_type": "markdown",
   "metadata": {},
   "source": [
    "kindda array but can contain different types of data, mutable"
   ]
  },
  {
   "cell_type": "code",
   "execution_count": 6,
   "metadata": {},
   "outputs": [
    {
     "name": "stdout",
     "output_type": "stream",
     "text": [
      "[1, 10, 'hi', 15.6]\n"
     ]
    }
   ],
   "source": [
    "x = [1,10,'hi',15.6]\n",
    "print(x)"
   ]
  },
  {
   "cell_type": "code",
   "execution_count": 7,
   "metadata": {},
   "outputs": [
    {
     "name": "stdout",
     "output_type": "stream",
     "text": [
      "[1, 10, 'hi'] 15.6\n"
     ]
    }
   ],
   "source": [
    "xp = x.pop()\n",
    "print(x,xp)"
   ]
  },
  {
   "cell_type": "code",
   "execution_count": 8,
   "metadata": {},
   "outputs": [
    {
     "name": "stdout",
     "output_type": "stream",
     "text": [
      "['over', 'under', 'below', 10, 2, 1]\n"
     ]
    }
   ],
   "source": [
    "origin = ['over','under','below']\n",
    "more = [10,2,1]\n",
    "origin.extend(more)\n",
    "print(origin)"
   ]
  },
  {
   "cell_type": "markdown",
   "metadata": {},
   "source": [
    "*Sort stuff*"
   ]
  },
  {
   "cell_type": "code",
   "execution_count": 9,
   "metadata": {},
   "outputs": [
    {
     "name": "stdout",
     "output_type": "stream",
     "text": [
      "[200, 23, 5.6, 2, 1, -2, -10]\n"
     ]
    }
   ],
   "source": [
    "unsorted = [2,-10,23,1,-2,200,5.6]\n",
    "unsorted.sort(reverse=True)\n",
    "print(unsorted)"
   ]
  },
  {
   "cell_type": "code",
   "execution_count": 10,
   "metadata": {},
   "outputs": [
    {
     "name": "stdout",
     "output_type": "stream",
     "text": [
      "['hi', 'no', 'damn', 'creepy']\n"
     ]
    }
   ],
   "source": [
    "unsorted_str = ['hi','damn','creepy','no']\n",
    "unsorted_str.sort(key=len)\n",
    "print(unsorted_str)"
   ]
  },
  {
   "cell_type": "code",
   "execution_count": 11,
   "metadata": {},
   "outputs": [
    {
     "name": "stdout",
     "output_type": "stream",
     "text": [
      "['ohihi', 'ooihi', 'ooohi', 'ooooo']\n"
     ]
    }
   ],
   "source": [
    "strs = ['ohihi','ooihi','ooooo','ooohi']\n",
    "print(sorted(strs,key=str.upper))"
   ]
  },
  {
   "cell_type": "markdown",
   "metadata": {},
   "source": [
    "*Slicing*"
   ]
  },
  {
   "cell_type": "code",
   "execution_count": 12,
   "metadata": {},
   "outputs": [
    {
     "name": "stdout",
     "output_type": "stream",
     "text": [
      "[0, 1, 2, 3, 4, 5]\n",
      "[0, 1, 2, 3, 4]\n",
      "[2, 3, 4, 5]\n"
     ]
    }
   ],
   "source": [
    "lis = list(range(6))\n",
    "print(lis)\n",
    "print(lis[:-1])\n",
    "print(lis[2:])"
   ]
  },
  {
   "cell_type": "markdown",
   "metadata": {},
   "source": [
    "*Loops*"
   ]
  },
  {
   "cell_type": "code",
   "execution_count": 13,
   "metadata": {},
   "outputs": [
    {
     "name": "stdout",
     "output_type": "stream",
     "text": [
      "cat dog tiger "
     ]
    }
   ],
   "source": [
    "animals = ['cat','dog','tiger']\n",
    "for animal in animals:\n",
    "    print(animal,end=' ')"
   ]
  },
  {
   "cell_type": "code",
   "execution_count": 14,
   "metadata": {},
   "outputs": [
    {
     "name": "stdout",
     "output_type": "stream",
     "text": [
      "#0: cat\n",
      "#1: dog\n",
      "#2: tiger\n"
     ]
    }
   ],
   "source": [
    "for i,animal in enumerate(animals):\n",
    "    # print('#%d: %s' % (i+1,animal))\n",
    "    print(f'#{i}: {animal}')"
   ]
  },
  {
   "cell_type": "markdown",
   "metadata": {},
   "source": [
    "*List comprehension*"
   ]
  },
  {
   "cell_type": "code",
   "execution_count": 15,
   "metadata": {},
   "outputs": [],
   "source": [
    "x = list(range(6))"
   ]
  },
  {
   "cell_type": "code",
   "execution_count": 16,
   "metadata": {},
   "outputs": [
    {
     "name": "stdout",
     "output_type": "stream",
     "text": [
      "[0, 1, 4, 9, 16, 25]\n"
     ]
    }
   ],
   "source": [
    "squares = []\n",
    "for i in x:\n",
    "    squares.append(i**2)\n",
    "print(squares)"
   ]
  },
  {
   "cell_type": "code",
   "execution_count": 17,
   "metadata": {},
   "outputs": [
    {
     "name": "stdout",
     "output_type": "stream",
     "text": [
      "[0, 4, 16]\n"
     ]
    }
   ],
   "source": [
    "even_squares=[i**2 for i in x if i%2==0]\n",
    "print(even_squares)"
   ]
  },
  {
   "cell_type": "code",
   "execution_count": 18,
   "metadata": {},
   "outputs": [
    {
     "name": "stdout",
     "output_type": "stream",
     "text": [
      "[0, 8, 16, 24, 32, 40, 48, 56, 64, 72, 80, 88, 96, 104, 112, 120]\n",
      "[0, 8, 16, 24, 32, 40, 48, 56, 64, 72, 80, 88, 96, 104, 112, 120]\n"
     ]
    }
   ],
   "source": [
    "def f1(x): return x*2\n",
    "def f2(x): return x*4\n",
    "lst = []\n",
    "for i in range(16):\n",
    "    lst.append(f1(f2(i)))\n",
    "print(lst)\n",
    "\n",
    "print([f1(f2(x)) for x in range(16)])"
   ]
  },
  {
   "cell_type": "code",
   "execution_count": 19,
   "metadata": {},
   "outputs": [
    {
     "name": "stdout",
     "output_type": "stream",
     "text": [
      "[4, 5, 6, 8, 10, 12, 12, 15, 18]\n"
     ]
    }
   ],
   "source": [
    "list1 = [[1,2,3],[4,5,6]]\n",
    "print([i * j for i in list1[0] for j in list1[1]])"
   ]
  },
  {
   "cell_type": "code",
   "execution_count": 2,
   "metadata": {},
   "outputs": [
    {
     "name": "stdout",
     "output_type": "stream",
     "text": [
      "[{'here': 4}, {'is': 2}, {'a': 1}, {'sentence': 8}]\n"
     ]
    }
   ],
   "source": [
    "words = 'here is a sentence'.split()\n",
    "print([{word: len(word)} for word in words])"
   ]
  },
  {
   "cell_type": "markdown",
   "metadata": {},
   "source": [
    "**Tuple**"
   ]
  },
  {
   "cell_type": "markdown",
   "metadata": {},
   "source": [
    "immutable, ordered, [hashable](https://stackoverflow.com/questions/14535730/what-does-hashable-mean-in-python)"
   ]
  },
  {
   "cell_type": "code",
   "execution_count": 21,
   "metadata": {},
   "outputs": [
    {
     "name": "stdout",
     "output_type": "stream",
     "text": [
      "{(0, 1): 0, (1, 2): 1, (2, 3): 2, (3, 4): 3, (4, 5): 4, (5, 6): 5, (6, 7): 6, (7, 8): 7, (8, 9): 8, (9, 10): 9}\n",
      "<class 'dict'>\n",
      "<class 'tuple'>\n",
      "5\n"
     ]
    }
   ],
   "source": [
    "d = {(x,x+1): x for x in range(10)}\n",
    "t = (5,6)\n",
    "print(d)\n",
    "print(type(d))\n",
    "print(type(t))\n",
    "print(d[t])"
   ]
  },
  {
   "cell_type": "code",
   "execution_count": 7,
   "metadata": {},
   "outputs": [
    {
     "name": "stdout",
     "output_type": "stream",
     "text": [
      "['1', 'a', 'b', 'c']\n"
     ]
    }
   ],
   "source": [
    "tpl = ('a','c','b','1')  # hashable ~ sortable\n",
    "a = sorted(tpl)\n",
    "print(a)"
   ]
  },
  {
   "cell_type": "markdown",
   "metadata": {},
   "source": [
    "Create tuple with 0 or 1 elements"
   ]
  },
  {
   "cell_type": "code",
   "execution_count": 9,
   "metadata": {},
   "outputs": [
    {
     "name": "stdout",
     "output_type": "stream",
     "text": [
      "('1',)\n",
      "()\n"
     ]
    }
   ],
   "source": [
    "a = ('1',)  # diffent from a = ('1') : convert to string\n",
    "b = tuple()\n",
    "print(a)\n",
    "print(b)"
   ]
  },
  {
   "cell_type": "markdown",
   "metadata": {},
   "source": [
    "Interesting examples: converting strings (with pattern) to tuples.  \n",
    "Requirement: [Re Package](https://docs.python.org/3/library/re.html), [Regex_Info_Refer](https://www.regular-expressions.info/refext.html)"
   ]
  },
  {
   "cell_type": "code",
   "execution_count": 20,
   "metadata": {},
   "outputs": [
    {
     "name": "stdout",
     "output_type": "stream",
     "text": [
      "[('Kumquat', '2', 'cups'), ('Sugar', '5', 'spoons'), ('Garlic', '3', 'cloves')]\n"
     ]
    }
   ],
   "source": [
    "import re\n",
    "\n",
    "ingredients = [\"Kumquat: 2 cups\", \"Sugar: 5 spoons\", \"Garlic: 3 cloves\"]\n",
    "ingredient_pattern = re.compile(r'(?P<ingredient>\\w+):\\s+(?P<amount>\\d+)\\s+(?P<unit>\\w+)')\n",
    "ingredient_list = [ingredient_pattern.match(ingredient).groups() for ingredient in ingredients]\n",
    "\n",
    "print(ingredient_list)\n",
    "    "
   ]
  },
  {
   "cell_type": "markdown",
   "metadata": {},
   "source": [
    "**Dictionaries**"
   ]
  },
  {
   "cell_type": "markdown",
   "metadata": {},
   "source": [
    "allow to map a set of unique keys to values,  \n",
    "as follow: (key,value)  \n",
    "mutable"
   ]
  },
  {
   "cell_type": "code",
   "execution_count": 21,
   "metadata": {},
   "outputs": [
    {
     "name": "stdout",
     "output_type": "stream",
     "text": [
      "cute\n"
     ]
    }
   ],
   "source": [
    "animals = {'cat':'cute','dog':'furry'}\n",
    "print(animals['cat'])"
   ]
  },
  {
   "cell_type": "code",
   "execution_count": 22,
   "metadata": {},
   "outputs": [
    {
     "name": "stdout",
     "output_type": "stream",
     "text": [
      "{'cat': 'cute', 'dog': 'furry', 'fish': 'wet'}\n"
     ]
    }
   ],
   "source": [
    "animals['fish']='wet'\n",
    "print(animals)"
   ]
  },
  {
   "cell_type": "markdown",
   "metadata": {},
   "source": [
    "get(key, default=None) method: return value if key is available in dict, if not: return default"
   ]
  },
  {
   "cell_type": "code",
   "execution_count": 23,
   "metadata": {},
   "outputs": [
    {
     "name": "stdout",
     "output_type": "stream",
     "text": [
      "N/A\n",
      "wet\n",
      "N/A\n"
     ]
    }
   ],
   "source": [
    "print(animals.get('monkey','N/A'))\n",
    "print(animals.get('fish','N/A'))\n",
    "del animals['fish']\n",
    "print(animals.get('fish','N/A'))"
   ]
  },
  {
   "cell_type": "markdown",
   "metadata": {},
   "source": [
    "dict comprehension"
   ]
  },
  {
   "cell_type": "code",
   "execution_count": 24,
   "metadata": {},
   "outputs": [
    {
     "name": "stdout",
     "output_type": "stream",
     "text": [
      "{0: 0, 2: 4, 4: 16}\n"
     ]
    }
   ],
   "source": [
    "nums = [0, 1, 2, 3, 4]\n",
    "even_num_to_square = {x: x ** 2 for x in nums if x % 2 == 0}\n",
    "\n",
    "print(even_num_to_square)"
   ]
  },
  {
   "cell_type": "markdown",
   "metadata": {},
   "source": [
    "Shallow copy of Dict"
   ]
  },
  {
   "cell_type": "code",
   "execution_count": 25,
   "metadata": {},
   "outputs": [
    {
     "name": "stdout",
     "output_type": "stream",
     "text": [
      "dict_items([('name', 'John'), ('last name', 'Doe'), ('age', 41)])\n"
     ]
    }
   ],
   "source": [
    "person = {'name':'John','last name':'Doe'}\n",
    "items = person.items()\n",
    "person['age']=41\n",
    "print(items)"
   ]
  },
  {
   "cell_type": "markdown",
   "metadata": {},
   "source": [
    "**Interesting example:** *key-and-count* dict: counting numbers of visitted times of customers"
   ]
  },
  {
   "cell_type": "markdown",
   "metadata": {},
   "source": [
    "Randomly generate the sequence of customer IDs to show their visits "
   ]
  },
  {
   "cell_type": "code",
   "execution_count": 6,
   "metadata": {},
   "outputs": [
    {
     "name": "stdout",
     "output_type": "stream",
     "text": [
      "{1: 150, 0: 130, 2: 129, 3: 117, 4: 128, 5: 127, 6: 118, 7: 101}\n"
     ]
    }
   ],
   "source": [
    "import random\n",
    "\n",
    "def samples(size, generator):\n",
    "    for n, value in enumerate(generator):\n",
    "        if n == size:\n",
    "            break\n",
    "        yield value\n",
    "\n",
    "def arrival2(n=8):\n",
    "    p = 0\n",
    "    while True:\n",
    "        step = random.choice([-1,0,+1])  # random walk technique\n",
    "        p += step\n",
    "        yield abs(p) % n  # to make sure ID belong to 0<=p<n\n",
    "\n",
    "random.seed(1)\n",
    "source = samples(1000,arrival2(8))        \n",
    "histogram = {}\n",
    "for customer in source:\n",
    "    if customer not in histogram:\n",
    "        histogram[customer] = 0\n",
    "    histogram[customer] += 1\n",
    "print(histogram)"
   ]
  },
  {
   "cell_type": "markdown",
   "metadata": {},
   "source": [
    "**Interesting examples:** using dict for reading row from spreadsheet"
   ]
  },
  {
   "cell_type": "code",
   "execution_count": 7,
   "metadata": {},
   "outputs": [
    {
     "name": "stdout",
     "output_type": "stream",
     "text": [
      "OrderedDict([('final', '5'), ('least', '0'), ('most', '6')])\n",
      "OrderedDict([('final', '-3'), ('least', '-4'), ('most', '0')])\n",
      "OrderedDict([('final', '-1'), ('least', '-3'), ('most', '1')])\n",
      "OrderedDict([('final', '3'), ('least', '0'), ('most', '4')])\n"
     ]
    }
   ],
   "source": [
    "from pathlib import Path\n",
    "import csv\n",
    "\n",
    "data_path = Path('craps.csv')\n",
    "with data_path.open() as data_file:\n",
    "    reader = csv.DictReader(data_file)\n",
    "    data = list(reader)\n",
    "\n",
    "for row in data:\n",
    "    print(row)"
   ]
  },
  {
   "cell_type": "markdown",
   "metadata": {},
   "source": [
    "### Set"
   ]
  },
  {
   "cell_type": "markdown",
   "metadata": {},
   "source": [
    "Like dict but without values, unordered, mutable, not contain dupplicate items\n",
    "\n",
    "typically used with mathematical operations like intersection, union, difference, complement."
   ]
  },
  {
   "cell_type": "code",
   "execution_count": 14,
   "metadata": {},
   "outputs": [
    {
     "name": "stdout",
     "output_type": "stream",
     "text": [
      "False\n"
     ]
    }
   ],
   "source": [
    "animals = {'cat','dog','lion','tiger'}\n",
    "print('dog' not in animals)"
   ]
  },
  {
   "cell_type": "code",
   "execution_count": 13,
   "metadata": {},
   "outputs": [
    {
     "name": "stdout",
     "output_type": "stream",
     "text": [
      "{'cat', 'dog', 'tiger', 'fish', 'lion'}\n"
     ]
    }
   ],
   "source": [
    "animals.add('fish')\n",
    "print(animals)"
   ]
  },
  {
   "cell_type": "markdown",
   "metadata": {},
   "source": [
    "Set comprehension"
   ]
  },
  {
   "cell_type": "code",
   "execution_count": 15,
   "metadata": {},
   "outputs": [
    {
     "name": "stdout",
     "output_type": "stream",
     "text": [
      "{0, 1, 2, 3, 4, 5}\n"
     ]
    }
   ],
   "source": [
    "from math import sqrt\n",
    "square_roots = {int(sqrt(x)) for x in range(30)}\n",
    "print(square_roots)"
   ]
  }
 ],
 "metadata": {
  "kernelspec": {
   "display_name": "Python 3",
   "language": "python",
   "name": "python3"
  },
  "language_info": {
   "codemirror_mode": {
    "name": "ipython",
    "version": 3
   },
   "file_extension": ".py",
   "mimetype": "text/x-python",
   "name": "python",
   "nbconvert_exporter": "python",
   "pygments_lexer": "ipython3",
   "version": "3.7.4"
  }
 },
 "nbformat": 4,
 "nbformat_minor": 2
}
